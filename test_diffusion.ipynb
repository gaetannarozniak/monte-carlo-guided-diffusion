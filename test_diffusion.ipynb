{
 "cells": [
  {
   "cell_type": "code",
   "execution_count": 14,
   "metadata": {},
   "outputs": [],
   "source": [
    "import pandas as pd\n",
    "import torch\n",
    "import torch.nn as nn\n",
    "from torch.utils.data import TensorDataset, DataLoader\n",
    "import matplotlib.pyplot as plt\n",
    "from ddpm import DDPM\n",
    "\n",
    "datasaurus = pd.read_csv(\"datasaurus.csv\")\n",
    "dino = datasaurus[datasaurus[\"dataset\"] == \"dino\"]\n",
    "X = torch.tensor(dino[[\"x\", \"y\"]].values, dtype=torch.float32)\n",
    "mean = X.mean(dim=0, keepdim=True)\n",
    "std = X.std(dim=0, keepdim=True)\n",
    "\n",
    "# Normalize: (X - mean) / std\n",
    "X_norm = (X - mean) / std\n",
    "dataset = TensorDataset(X)\n",
    "loader = DataLoader(dataset, batch_size=32, shuffle=True)"
   ]
  },
  {
   "cell_type": "code",
   "execution_count": 15,
   "metadata": {},
   "outputs": [
    {
     "data": {
      "text/plain": [
       "torch.Size([142, 2])"
      ]
     },
     "execution_count": 15,
     "metadata": {},
     "output_type": "execute_result"
    }
   ],
   "source": [
    "X.shape"
   ]
  },
  {
   "cell_type": "code",
   "execution_count": null,
   "metadata": {},
   "outputs": [],
   "source": []
  },
  {
   "cell_type": "code",
   "execution_count": 2,
   "metadata": {},
   "outputs": [
    {
     "name": "stdout",
     "output_type": "stream",
     "text": [
      "epoch 0: mean loss = 1.5219321489334106\n",
      "epoch 1: mean loss = 1.711681032180786\n",
      "epoch 2: mean loss = 1.912912333011627\n",
      "epoch 3: mean loss = 1.278581976890564\n",
      "epoch 4: mean loss = 1.6492910742759705\n",
      "epoch 5: mean loss = 1.0702791333198547\n",
      "epoch 6: mean loss = 1.2687578201293945\n",
      "epoch 7: mean loss = 1.2922189950942993\n",
      "epoch 8: mean loss = 1.061411476135254\n",
      "epoch 9: mean loss = 1.3772488355636596\n",
      "epoch 10: mean loss = 0.9776320934295655\n",
      "epoch 11: mean loss = 1.2040358304977417\n",
      "epoch 12: mean loss = 1.0251748085021972\n",
      "epoch 13: mean loss = 0.7673087120056152\n",
      "epoch 14: mean loss = 1.4782116413116455\n",
      "epoch 15: mean loss = 1.0190554976463317\n",
      "epoch 16: mean loss = 1.1875654101371764\n",
      "epoch 17: mean loss = 1.1750694990158081\n",
      "epoch 18: mean loss = 0.9041582822799683\n",
      "epoch 19: mean loss = 1.1327877759933471\n",
      "epoch 20: mean loss = 1.074215579032898\n",
      "epoch 21: mean loss = 0.9587030529975891\n",
      "epoch 22: mean loss = 0.8256290256977081\n",
      "epoch 23: mean loss = 0.8729568123817444\n",
      "epoch 24: mean loss = 0.9963560581207276\n",
      "epoch 25: mean loss = 0.9081032395362854\n",
      "epoch 26: mean loss = 0.5743274927139282\n",
      "epoch 27: mean loss = 0.9378742218017578\n",
      "epoch 28: mean loss = 0.8919655084609985\n",
      "epoch 29: mean loss = 0.9518626630306244\n",
      "epoch 30: mean loss = 0.9796836376190186\n",
      "epoch 31: mean loss = 0.9292487859725952\n",
      "epoch 32: mean loss = 0.9663110911846161\n",
      "epoch 33: mean loss = 1.1308366298675536\n",
      "epoch 34: mean loss = 1.0456892549991608\n",
      "epoch 35: mean loss = 0.959613811969757\n",
      "epoch 36: mean loss = 0.7717721700668335\n",
      "epoch 37: mean loss = 0.9064159870147706\n",
      "epoch 38: mean loss = 0.9509963154792785\n",
      "epoch 39: mean loss = 0.9997875809669494\n",
      "epoch 40: mean loss = 0.8021929442882538\n",
      "epoch 41: mean loss = 1.04022336602211\n",
      "epoch 42: mean loss = 0.9649302303791046\n",
      "epoch 43: mean loss = 1.078600251674652\n",
      "epoch 44: mean loss = 0.8044101119041442\n",
      "epoch 45: mean loss = 0.9444094240665436\n",
      "epoch 46: mean loss = 1.2083179235458374\n",
      "epoch 47: mean loss = 0.6474591434001923\n",
      "epoch 48: mean loss = 0.9583403110504151\n",
      "epoch 49: mean loss = 0.9388764262199402\n",
      "epoch 50: mean loss = 0.812474924325943\n",
      "epoch 51: mean loss = 1.1321027040481568\n",
      "epoch 52: mean loss = 0.9070095777511596\n",
      "epoch 53: mean loss = 0.9186469078063965\n",
      "epoch 54: mean loss = 0.7743276834487915\n",
      "epoch 55: mean loss = 1.1825741708278656\n",
      "epoch 56: mean loss = 1.6696337461471558\n",
      "epoch 57: mean loss = 1.5486210107803344\n",
      "epoch 58: mean loss = 0.9811374127864838\n",
      "epoch 59: mean loss = 0.9992961764335633\n",
      "epoch 60: mean loss = 0.8480124354362488\n",
      "epoch 61: mean loss = 0.9614084243774415\n",
      "epoch 62: mean loss = 1.0289624810218811\n",
      "epoch 63: mean loss = 1.135695505142212\n",
      "epoch 64: mean loss = 0.9418465733528137\n",
      "epoch 65: mean loss = 0.7094256460666657\n",
      "epoch 66: mean loss = 1.0890757322311402\n",
      "epoch 67: mean loss = 0.8636761546134949\n",
      "epoch 68: mean loss = 1.033354926109314\n",
      "epoch 69: mean loss = 0.7918288588523865\n",
      "epoch 70: mean loss = 0.7914612531661988\n",
      "epoch 71: mean loss = 0.8517629921436309\n",
      "epoch 72: mean loss = 0.9490246176719666\n",
      "epoch 73: mean loss = 0.834939694404602\n",
      "epoch 74: mean loss = 0.7221084356307983\n",
      "epoch 75: mean loss = 0.8568192720413208\n",
      "epoch 76: mean loss = 1.0520137012004853\n",
      "epoch 77: mean loss = 0.8805529475212097\n",
      "epoch 78: mean loss = 1.1563237607479095\n",
      "epoch 79: mean loss = 1.1294228315353394\n",
      "epoch 80: mean loss = 0.7617583513259888\n",
      "epoch 81: mean loss = 1.0784359574317932\n",
      "epoch 82: mean loss = 0.8006516337394715\n",
      "epoch 83: mean loss = 0.8912517070770264\n",
      "epoch 84: mean loss = 0.8987098217010498\n",
      "epoch 85: mean loss = 0.9753371894359588\n",
      "epoch 86: mean loss = 0.9699094772338868\n",
      "epoch 87: mean loss = 1.0460989356040955\n",
      "epoch 88: mean loss = 0.5332755863666534\n",
      "epoch 89: mean loss = 0.8966633558273316\n",
      "epoch 90: mean loss = 0.9095912992954254\n",
      "epoch 91: mean loss = 0.7876390814781189\n",
      "epoch 92: mean loss = 0.8265467405319213\n",
      "epoch 93: mean loss = 0.670694836974144\n",
      "epoch 94: mean loss = 0.9406989753246308\n",
      "epoch 95: mean loss = 1.0130102276802062\n",
      "epoch 96: mean loss = 0.8806138694286346\n",
      "epoch 97: mean loss = 0.8169653236865997\n",
      "epoch 98: mean loss = 0.6090334892272949\n",
      "epoch 99: mean loss = 0.7959129273891449\n"
     ]
    }
   ],
   "source": [
    "net = nn.Sequential(\n",
    "    nn.Linear(3,64),\n",
    "    nn.ReLU(),\n",
    "    nn.Linear(64, 64),\n",
    "    nn.ReLU(),\n",
    "    nn.Linear(64, 2)\n",
    ")\n",
    "ddpm = DDPM(1000, net, (2,))\n",
    "ddpm.train(loader, 100)\n"
   ]
  },
  {
   "cell_type": "code",
   "execution_count": 12,
   "metadata": {},
   "outputs": [
    {
     "data": {
      "text/plain": [
       "(100, 2)"
      ]
     },
     "execution_count": 12,
     "metadata": {},
     "output_type": "execute_result"
    },
    {
     "data": {
      "image/png": "[encoded data removed]",
      "text/plain": [
       "<Figure size 640x480 with 1 Axes>"
      ]
     },
     "metadata": {},
     "output_type": "display_data"
    }
   ],
   "source": [
    "x = ddpm.sample(100).detach().numpy()\n",
    "plt.scatter(x[:,0], x[:,1])\n",
    "x.shape"
   ]
  }
 ],
 "metadata": {
  "kernelspec": {
   "display_name": "dac",
   "language": "python",
   "name": "python3"
  },
  "language_info": {
   "codemirror_mode": {
    "name": "ipython",
    "version": 3
   },
   "file_extension": ".py",
   "mimetype": "text/x-python",
   "name": "python",
   "nbconvert_exporter": "python",
   "pygments_lexer": "ipython3",
   "version": "3.11.11"
  }
 },
 "nbformat": 4,
 "nbformat_minor": 2
}
